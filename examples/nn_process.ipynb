{
 "cells": [
  {
   "cell_type": "code",
   "execution_count": 1,
   "metadata": {},
   "outputs": [
    {
     "name": "stdout",
     "output_type": "stream",
     "text": [
      "pybullet build time: Oct  8 2020 00:11:27\n"
     ]
    }
   ],
   "source": [
    "import numpy as np\n",
    "import os, json\n",
    "from argparse import Namespace\n",
    "from flat_reach_RL import *\n",
    "from nnet_util import torch_model_to_nnet, onnx_to_nnet\n",
    "import onnxruntime"
   ]
  },
  {
   "cell_type": "code",
   "execution_count": 2,
   "metadata": {},
   "outputs": [],
   "source": [
    "demo_path = \"/home/wth/dev/Composable_Agent_Toolbox/examples/output/FlatReach_near_C200_H32_Nm100.0_lr0.001\"\n",
    "demo_ep = 300\n",
    "\n",
    "with open(os.path.join(demo_path, \"args.json\"), \"r\") as infile:\n",
    "    config = json.load(infile)\n",
    "args_saved = Namespace(**config)\n",
    "\n",
    "args_saved.demo = True\n",
    "args_saved.demo_path = demo_path\n",
    "args_saved.demo_ep = demo_ep\n",
    "\n",
    "args = args_saved\n",
    "\n",
    "STATE_DIMENSION = 8\n",
    "ACTION_SPACE_SIZE = 17\n",
    "\n",
    "device = 'cuda'"
   ]
  },
  {
   "cell_type": "code",
   "execution_count": 3,
   "metadata": {},
   "outputs": [
    {
     "data": {
      "text/plain": [
       "QNetwork(\n",
       "  (model): Sequential(\n",
       "    (0): Linear(in_features=8, out_features=32, bias=True)\n",
       "    (1): ReLU()\n",
       "    (2): Linear(in_features=32, out_features=32, bias=True)\n",
       "    (3): ReLU()\n",
       "    (4): Linear(in_features=32, out_features=17, bias=True)\n",
       "  )\n",
       ")"
      ]
     },
     "execution_count": 3,
     "metadata": {},
     "output_type": "execute_result"
    }
   ],
   "source": [
    "Q = QNetwork(env_name=args.env_name,\n",
    "            state_dim=STATE_DIMENSION,\n",
    "            num_of_actions=ACTION_SPACE_SIZE,\n",
    "            hidden_size=args.hidden_size).to(device)\n",
    "\n",
    "checkpt_path = os.path.join(args.demo_path, 'checkpts', '{}_{}.pt'.format(args.env_name, args.demo_ep))\n",
    "Q.load_model_weights(checkpt_path)\n",
    "Q.eval()"
   ]
  },
  {
   "cell_type": "code",
   "execution_count": 4,
   "metadata": {},
   "outputs": [],
   "source": [
    "dummy_input = torch.randn(1, STATE_DIMENSION).to(device)\n",
    "input_names = [\"dummy_input\"]\n",
    "output_names = [\"output\"]\n",
    "\n",
    "torch.onnx.export(Q, \n",
    "                  dummy_input,\n",
    "                  f\"{demo_ep}.onnx\",\n",
    "                  verbose=False,\n",
    "                  input_names=input_names,\n",
    "                  output_names=output_names,\n",
    "                  export_params=True,\n",
    "                  )"
   ]
  },
  {
   "cell_type": "code",
   "execution_count": 9,
   "metadata": {},
   "outputs": [
    {
     "name": "stdout",
     "output_type": "stream",
     "text": [
      "Converted pytorch model to an NNet model at 300.nnet\n"
     ]
    }
   ],
   "source": [
    "torch_model_to_nnet(Q, f\"{demo_ep}.nnet\", decimal=8) # saving 8 digits. More can be used, but that requires more more space."
   ]
  },
  {
   "cell_type": "code",
   "execution_count": 10,
   "metadata": {},
   "outputs": [
    {
     "name": "stdout",
     "output_type": "stream",
     "text": [
      "Converted ONNX model at 300.onnx\n",
      "    to an NNet model at 300.nnet\n"
     ]
    }
   ],
   "source": [
    "onnx_to_nnet(f\"{demo_ep}.onnx\", f\"{demo_ep}.nnet\", decimal=8)"
   ]
  },
  {
   "cell_type": "code",
   "execution_count": 11,
   "metadata": {},
   "outputs": [
    {
     "name": "stdout",
     "output_type": "stream",
     "text": [
      "[[930.37695 932.53015 937.174   936.2096  940.66046 927.5235  930.0774\n",
      "  928.9899  928.7441  941.59045 945.49884 953.39    935.05896 929.7237\n",
      "  925.0195  935.30005 934.61084]]\n"
     ]
    }
   ],
   "source": [
    "def onnx_inference(file, input):\n",
    "    sess = onnxruntime.InferenceSession(\n",
    "        file, providers=onnxruntime.get_available_providers())\n",
    "    input_name = sess.get_inputs()[0].name\n",
    "    pred_onx = sess.run(None, {input_name: input.astype(np.float32)})[0]\n",
    "    print(pred_onx)\n",
    "\n",
    "input = np.array([[1,2,3,4,5,6,7,8]])\n",
    "onnx_inference(\"300.onnx\", input)"
   ]
  },
  {
   "cell_type": "code",
   "execution_count": null,
   "metadata": {},
   "outputs": [],
   "source": [
    "# Test nnet in julia using the following code:\n",
    "# the output could be slightly different due to digits used for saving nnet\n",
    "\n",
    "# using NeuralVerification\n",
    "# net = read_nnet(\"300.nnet\")\n",
    "# input = [1,2,3,4,5,6,7,8]\n",
    "# compute_output(net, input)"
   ]
  }
 ],
 "metadata": {
  "kernelspec": {
   "display_name": "Python 3.7.5 ('venv')",
   "language": "python",
   "name": "python3"
  },
  "language_info": {
   "codemirror_mode": {
    "name": "ipython",
    "version": 3
   },
   "file_extension": ".py",
   "mimetype": "text/x-python",
   "name": "python",
   "nbconvert_exporter": "python",
   "pygments_lexer": "ipython3",
   "version": "3.8.11"
  },
  "orig_nbformat": 4,
  "vscode": {
   "interpreter": {
    "hash": "6030eb738c8acb4f83a1f3daa211682723451309cff055d0309698eea07fbfaa"
   }
  }
 },
 "nbformat": 4,
 "nbformat_minor": 2
}
