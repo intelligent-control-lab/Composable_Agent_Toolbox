{
 "cells": [
  {
   "cell_type": "code",
   "execution_count": 3,
   "metadata": {},
   "outputs": [],
   "source": [
    "import numpy as np\n",
    "import os, json\n",
    "from argparse import Namespace\n",
    "from flat_reach_RL import *\n",
    "# from nnet_util import torch_model_to_nnet, onnx_to_nnet\n",
    "# import onnxruntime"
   ]
  },
  {
   "cell_type": "code",
   "execution_count": 6,
   "metadata": {},
   "outputs": [],
   "source": [
    "# demo_path = \"/Users/changliuliu/Documents/GitHub/Composable_Agent_Toolbox/examples/output/FlatReach_near_C200_H32_Nm100.0_lr0.001\"\n",
    "demo_path = \"/home/ruic/Documents/RESEARCH/ICL/Composable_Agent_Toolbox/examples/output/FlatReach_near_C200_H32_Nm100.0_lr0.001\"\n",
    "demo_ep = 300\n",
    "\n",
    "with open(os.path.join(demo_path, \"args.json\"), \"r\") as infile:\n",
    "    config = json.load(infile)\n",
    "args_saved = Namespace(**config)\n",
    "\n",
    "args_saved.demo = True\n",
    "args_saved.demo_path = demo_path\n",
    "args_saved.demo_ep = demo_ep\n",
    "\n",
    "args = args_saved\n",
    "\n",
    "STATE_DIMENSION = 8\n",
    "ACTION_SPACE_SIZE = 17\n",
    "\n",
    "# device = 'cpu'\n",
    "device = 'cuda'"
   ]
  },
  {
   "cell_type": "code",
   "execution_count": 8,
   "metadata": {},
   "outputs": [],
   "source": [
    "def state_to_tensor(s, device):\n",
    "    '''\n",
    "        [1, dS]\n",
    "    '''\n",
    "    return torch.from_numpy(np.asarray(s)).unsqueeze(0).float().to(device)"
   ]
  },
  {
   "cell_type": "code",
   "execution_count": 7,
   "metadata": {},
   "outputs": [
    {
     "data": {
      "text/plain": [
       "QNetwork(\n",
       "  (model): Sequential(\n",
       "    (0): Linear(in_features=8, out_features=32, bias=True)\n",
       "    (1): ReLU()\n",
       "    (2): Linear(in_features=32, out_features=32, bias=True)\n",
       "    (3): ReLU()\n",
       "    (4): Linear(in_features=32, out_features=17, bias=True)\n",
       "  )\n",
       ")"
      ]
     },
     "execution_count": 7,
     "metadata": {},
     "output_type": "execute_result"
    }
   ],
   "source": [
    "Q = QNetwork(env_name=args.env_name,\n",
    "            state_dim=STATE_DIMENSION,\n",
    "            num_of_actions=ACTION_SPACE_SIZE,\n",
    "            hidden_size=args.hidden_size).to(device)\n",
    "\n",
    "checkpt_path = os.path.join(args.demo_path, 'checkpts', '{}_{}.pt'.format(args.env_name, args.demo_ep))\n",
    "Q.load_model_weights(checkpt_path)\n",
    "Q.eval()"
   ]
  },
  {
   "cell_type": "code",
   "execution_count": 20,
   "metadata": {},
   "outputs": [
    {
     "name": "stdout",
     "output_type": "stream",
     "text": [
      "(9, array([100.,   0.]))\n",
      "(9, array([100.,   0.]))\n",
      "(9, array([100.,   0.]))\n",
      "(9, array([100.,   0.]))\n",
      "(16, array([ 70.71067812, -70.71067812]))\n",
      "(16, array([ 70.71067812, -70.71067812]))\n"
     ]
    }
   ],
   "source": [
    "ANGLE_DISCRETE_SIZE = 8\n",
    "ACC_MIN = 50\n",
    "ACC_MAX = 100\n",
    "ACC_DISCRETE_SIZE = 2\n",
    "ACTION_SPACE_SIZE = 1 + ANGLE_DISCRETE_SIZE * ACC_DISCRETE_SIZE\n",
    "\n",
    "def get_action(Q, state, device):\n",
    "\n",
    "    action_id = Q(state_to_tensor(state, device)).argmax().item()\n",
    "\n",
    "    if action_id == 0:\n",
    "        action = [0, 0]\n",
    "    else:\n",
    "        action_id_non_zero = action_id - 1\n",
    "        angle = 2*np.pi / ANGLE_DISCRETE_SIZE * (action_id_non_zero % ANGLE_DISCRETE_SIZE)\n",
    "        mag = np.floor(action_id_non_zero/ANGLE_DISCRETE_SIZE)*(ACC_MAX-ACC_MIN)/(ACC_DISCRETE_SIZE-1) + ACC_MIN\n",
    "        action = [mag*np.cos(angle), mag*np.sin(angle)]\n",
    "    \n",
    "    return action_id, np.asarray(action).reshape(-1)\n",
    "\n",
    "# numerical examples\n",
    "# state = [goal_rel_pos, goal_rel_vel, obs_rel_pos, obs_rel_vel]\n",
    "\n",
    "# When obstacle is far, changing goal distance should not change action\n",
    "state = [10, 0, -1, 0, 0, 50, 0, 0]\n",
    "print(get_action(Q, state, device))\n",
    "\n",
    "state = [5, 0, -1, 0, 0, 50, 0, 0]\n",
    "print(get_action(Q, state, device))\n",
    "\n",
    "# When obstacle is not on the way to goal, changing obstacle vel should not change action\n",
    "state = [10, 0, -1, 0, 0, 50, 0, 0]\n",
    "print(get_action(Q, state, device))\n",
    "\n",
    "state = [10, 0, -1, 0, 0, 50, 0, -1]\n",
    "print(get_action(Q, state, device))\n",
    "\n",
    "# When obstacle is on the way to goal, changing goal distance should not change action\n",
    "state = [20, 0, -1, 0, 10, 0, -2, 0]\n",
    "print(get_action(Q, state, device))\n",
    "\n",
    "state = [25, 0, -1, 0, 10, 0, -2, 0]\n",
    "print(get_action(Q, state, device))"
   ]
  },
  {
   "cell_type": "code",
   "execution_count": 4,
   "metadata": {},
   "outputs": [],
   "source": [
    "dummy_input = torch.randn(1, STATE_DIMENSION).to(device)\n",
    "input_names = [\"dummy_input\"]\n",
    "output_names = [\"output\"]\n",
    "\n",
    "torch.onnx.export(Q, \n",
    "                  dummy_input,\n",
    "                  f\"{demo_ep}.onnx\",\n",
    "                  verbose=False,\n",
    "                  input_names=input_names,\n",
    "                  output_names=output_names,\n",
    "                  export_params=True,\n",
    "                  )"
   ]
  },
  {
   "cell_type": "code",
   "execution_count": 5,
   "metadata": {},
   "outputs": [
    {
     "name": "stdout",
     "output_type": "stream",
     "text": [
      "Converted pytorch model to an NNet model at 300.nnet\n"
     ]
    }
   ],
   "source": [
    "torch_model_to_nnet(Q, f\"{demo_ep}.nnet\", decimal=8) # saving 8 digits. More can be used, but that requires more more space."
   ]
  },
  {
   "cell_type": "code",
   "execution_count": 6,
   "metadata": {},
   "outputs": [
    {
     "name": "stdout",
     "output_type": "stream",
     "text": [
      "Converted ONNX model at 300.onnx\n",
      "    to an NNet model at 300.nnet\n"
     ]
    }
   ],
   "source": [
    "onnx_to_nnet(f\"{demo_ep}.onnx\", f\"{demo_ep}.nnet\", decimal=8)"
   ]
  },
  {
   "cell_type": "code",
   "execution_count": 7,
   "metadata": {},
   "outputs": [
    {
     "name": "stdout",
     "output_type": "stream",
     "text": [
      "[[930.37695 932.53015 937.174   936.2096  940.66034 927.52344 930.07733\n",
      "  928.99    928.7442  941.5904  945.49884 953.3901  935.059   929.7238\n",
      "  925.0194  935.30005 934.61084]]\n"
     ]
    }
   ],
   "source": [
    "def onnx_inference(file, input):\n",
    "    sess = onnxruntime.InferenceSession(\n",
    "        file, providers=onnxruntime.get_available_providers())\n",
    "    input_name = sess.get_inputs()[0].name\n",
    "    pred_onx = sess.run(None, {input_name: input.astype(np.float32)})[0]\n",
    "    print(pred_onx)\n",
    "\n",
    "input = np.array([[1,2,3,4,5,6,7,8]])\n",
    "onnx_inference(\"300.onnx\", input)"
   ]
  },
  {
   "cell_type": "code",
   "execution_count": null,
   "metadata": {
    "vscode": {
     "languageId": "julia"
    }
   },
   "outputs": [],
   "source": [
    "# Test nnet in julia using the following code:\n",
    "# the output could be slightly different due to digits used for saving nnet\n",
    "\n",
    "using NeuralVerification\n",
    "net = read_nnet(\"300.nnet\")\n",
    "\n",
    "# Define the problem\n",
    "#TODO: change to realistic values\n",
    "input = [1,2,3,4,5,6,7,8] \n",
    "radius = [1,1,1,1,1,1,1,1]\n",
    "\n",
    "# Check the desired action\n",
    "output = NeuralVerification.compute_output(net, input)\n",
    "desired_action = argmax(output)"
   ]
  },
  {
   "cell_type": "code",
   "execution_count": null,
   "metadata": {
    "vscode": {
     "languageId": "julia"
    }
   },
   "outputs": [],
   "source": [
    "# Now check whether the input can tolerate some perturbation\n",
    "input_set  = NeuralVerification.Hyperrectangle(input, radius)\n",
    "# TODO: automatically generate the output_set\n",
    "output_set = NeuralVerification.HPolytope([NeuralVerification.HalfSpace([1.0,0.0,0.0,0.0,0.0,0.0,0.0,0.0,0.0,0.0,0.0,-1.0,0.0,0.0,0.0,0.0,0.0], 0.0)])\n",
    "\n",
    "problem = Problem(net, input_set, output_set)\n",
    "solver = MIPVerify()\n",
    "result = solve(solver, problem)"
   ]
  },
  {
   "cell_type": "code",
   "execution_count": null,
   "metadata": {
    "vscode": {
     "languageId": "julia"
    }
   },
   "outputs": [],
   "source": [
    "# PROBLEM 1: CHECK IF THE POLICY IS ROBUST UNDER INPUT PERTURBATION ** CHECK EVERY ACTION PAIR\n",
    "\n",
    "# PROBLEM 2: COMPUTE THE MAXIMUM RANGE OF PERTURBATION\n",
    "\n",
    "# PROBLEM 3: COMPARE THE PERFORMANCE OF DIFFERENT SOLVERS: computation time, conservativeness\n"
   ]
  }
 ],
 "metadata": {
  "kernelspec": {
   "display_name": "Python 3.7.5 ('venv')",
   "language": "python",
   "name": "python3"
  },
  "language_info": {
   "codemirror_mode": {
    "name": "ipython",
    "version": 3
   },
   "file_extension": ".py",
   "mimetype": "text/x-python",
   "name": "python",
   "nbconvert_exporter": "python",
   "pygments_lexer": "ipython3",
   "version": "3.7.5"
  },
  "vscode": {
   "interpreter": {
    "hash": "6030eb738c8acb4f83a1f3daa211682723451309cff055d0309698eea07fbfaa"
   }
  }
 },
 "nbformat": 4,
 "nbformat_minor": 2
}
