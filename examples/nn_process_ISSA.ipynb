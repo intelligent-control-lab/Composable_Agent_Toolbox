{
 "cells": [
  {
   "cell_type": "code",
   "execution_count": 1,
   "metadata": {},
   "outputs": [
    {
     "name": "stderr",
     "output_type": "stream",
     "text": [
      "pybullet build time: May 20 2022 19:43:01\n",
      "/home/ruic/venv/lib/python3.7/site-packages/tqdm/auto.py:22: TqdmWarning: IProgress not found. Please update jupyter and ipywidgets. See https://ipywidgets.readthedocs.io/en/stable/user_install.html\n",
      "  from .autonotebook import tqdm as notebook_tqdm\n"
     ]
    }
   ],
   "source": [
    "import numpy as np\n",
    "import os, json\n",
    "from argparse import Namespace\n",
    "from nnet_util import torch_model_to_nnet, onnx_to_nnet\n",
    "from flat_reach_safety_gym_RL import *\n",
    "import onnxruntime"
   ]
  },
  {
   "cell_type": "code",
   "execution_count": 2,
   "metadata": {},
   "outputs": [],
   "source": [
    "# demo_path = \"/Users/changliuliu/Documents/GitHub/Composable_Agent_Toolbox/examples/output/FlatReach_near_C200_H32_Nm100.0_lr0.001\"\n",
    "demo_path = \"/home/ruic/Documents/RESEARCH/ICL/Composable_Agent_Toolbox/examples/output/FlatReachSafetyGym_ISSA_None_C400_H256_Nm100.0_lr0.0001\"\n",
    "demo_ep = 1200\n",
    "\n",
    "with open(os.path.join(demo_path, \"args.json\"), \"r\") as infile:\n",
    "    config = json.load(infile)\n",
    "args_saved = Namespace(**config)\n",
    "\n",
    "args_saved.demo = True\n",
    "args_saved.demo_path = demo_path\n",
    "args_saved.demo_ep = demo_ep\n",
    "\n",
    "args = args_saved\n",
    "\n",
    "args.env_name = \"FlatReachSafetyGym_ISSA\"\n",
    "\n",
    "STATE_DIMENSION = 12\n",
    "ACTION_SPACE_SIZE = 25\n",
    "\n",
    "# device = 'cpu'\n",
    "device = 'cuda'"
   ]
  },
  {
   "cell_type": "code",
   "execution_count": 3,
   "metadata": {},
   "outputs": [],
   "source": [
    "def state_to_tensor(s, device):\n",
    "    '''\n",
    "        [1, dS]\n",
    "    '''\n",
    "    return torch.from_numpy(np.asarray(s)).unsqueeze(0).float().to(device)"
   ]
  },
  {
   "cell_type": "code",
   "execution_count": 4,
   "metadata": {},
   "outputs": [
    {
     "data": {
      "text/plain": [
       "QNetwork(\n",
       "  (model): Sequential(\n",
       "    (0): Linear(in_features=12, out_features=256, bias=True)\n",
       "    (1): ReLU()\n",
       "    (2): Linear(in_features=256, out_features=256, bias=True)\n",
       "    (3): ReLU()\n",
       "    (4): Linear(in_features=256, out_features=25, bias=True)\n",
       "  )\n",
       ")"
      ]
     },
     "execution_count": 4,
     "metadata": {},
     "output_type": "execute_result"
    }
   ],
   "source": [
    "Q = QNetwork(env_name=args.env_name,\n",
    "            state_dim=STATE_DIMENSION,\n",
    "            num_of_actions=ACTION_SPACE_SIZE,\n",
    "            hidden_size=args.hidden_size).to(device)\n",
    "\n",
    "checkpt_path = os.path.join(args.demo_path, 'checkpts', '{}_{}.pt'.format(args.env_name, args.demo_ep))\n",
    "Q.load_model_weights(checkpt_path)\n",
    "Q.eval()"
   ]
  },
  {
   "cell_type": "code",
   "execution_count": 20,
   "metadata": {},
   "outputs": [
    {
     "name": "stdout",
     "output_type": "stream",
     "text": [
      "------------------- case 1 -------------------\n",
      "[1.7, -1.7, 1.0, -1.0, 1.2246467991473532e-16, 3.141592653589793, 0.7280109889280517, -0.7, 1.0, -0.9615239476408232, -0.274721127897378, -2.863292994584682]\n",
      "[[-0.01]\n",
      " [-5.  ]]\n",
      "[1.9, -1.9, 1.0, -1.0, 1.2246467991473532e-16, 3.141592653589793, 0.7280109889280517, -0.7, 1.0, -0.9615239476408232, -0.274721127897378, -2.863292994584682]\n",
      "[[-0.01]\n",
      " [-5.  ]]\n"
     ]
    }
   ],
   "source": [
    "LIN_DISCRETE_SIZE = 5\n",
    "LIN_MIN = -0.01\n",
    "LIN_MAX = 0.01\n",
    "ROT_DISCRETE_SIZE = 5\n",
    "ROT_MIN = -10.0\n",
    "ROT_MAX = 10.0\n",
    "ACTION_SPACE_SIZE = LIN_DISCRETE_SIZE * ROT_DISCRETE_SIZE\n",
    "\n",
    "def get_action(Q, state, device):\n",
    "\n",
    "    action_id = Q(state_to_tensor(state, device)).argmax().item()\n",
    "\n",
    "    lin_id = action_id // ROT_DISCRETE_SIZE\n",
    "    rot_id = action_id % ROT_DISCRETE_SIZE\n",
    "\n",
    "    action = [\n",
    "        LIN_MIN + (LIN_MAX-LIN_MIN)/(LIN_DISCRETE_SIZE-1) * lin_id,\n",
    "        ROT_MIN + (ROT_MAX-ROT_MIN)/(ROT_DISCRETE_SIZE-1) * rot_id\n",
    "    ]\n",
    "    \n",
    "    return np.asarray(action).reshape(-1, 1)\n",
    "\n",
    "def get_state(vel_R, heading_R, pos_G_rel, pos_O_rel):\n",
    "\n",
    "    state = []\n",
    "\n",
    "    # robot\n",
    "    v           = vel_R.reshape(-1)\n",
    "    vnorm       = np.linalg.norm(v)\n",
    "    heading     = heading_R\n",
    "    heading_vec = np.array([math.cos(heading), math.sin(heading)])\n",
    "\n",
    "    # robot - goal\n",
    "    e              = pos_G_rel.reshape(-1)\n",
    "    dist_goal      = np.linalg.norm(e)\n",
    "    heading_target = math.atan2(e[1], e[0])\n",
    "\n",
    "    # add goal info\n",
    "    state += list([dist_goal])\n",
    "    state += list([np.dot(e, heading_vec)])\n",
    "    state += list([vnorm])\n",
    "    state += list([vnorm*math.cos(heading_target - heading)])\n",
    "    state += list([vnorm*math.sin(heading_target - heading)])\n",
    "    state += list([math.atan2(math.sin(heading_target - heading), math.cos(heading_target - heading))])\n",
    "\n",
    "    # add obs info\n",
    "    e_obs       = pos_O_rel.reshape(-1)\n",
    "    dist_obs    = np.linalg.norm(e_obs)\n",
    "    heading_obs = math.atan2(e_obs[1], e_obs[0])\n",
    "\n",
    "    state += list([dist_obs])\n",
    "    state += list([np.dot(e_obs, heading_vec)])\n",
    "    state += list([vnorm])\n",
    "    state += list([vnorm*math.cos(heading_obs - heading)])\n",
    "    state += list([vnorm*math.sin(heading_obs - heading)])\n",
    "    state += list([math.atan2(math.sin(heading_obs - heading), math.cos(heading_obs - heading))])\n",
    "\n",
    "    return state\n",
    "\n",
    "# numerical examples\n",
    "\n",
    "# case 1 (success)\n",
    "# When obstacle is in the way, changing goal y pos should not change action\n",
    "\n",
    "print('------------------- case 1 -------------------')\n",
    "\n",
    "robot_x = 0\n",
    "robot_y = 0.3\n",
    "robot_rot = -np.pi/2\n",
    "goal_x = 0\n",
    "goal_y = 2 # case 1 +/- 0.2\n",
    "hazard_x = -0.2 # case 1 -0.2\n",
    "hazard_y = 1\n",
    "\n",
    "state = get_state(\n",
    "    vel_R = np.array([0, 1]),\n",
    "    heading_R = robot_rot,\n",
    "    pos_G_rel = np.array([goal_x-robot_x, goal_y-robot_y]),\n",
    "    pos_O_rel = np.array([hazard_x-robot_x, hazard_y-robot_y])\n",
    ")\n",
    "print(state)\n",
    "print(get_action(Q, state, device))\n",
    "\n",
    "state = get_state(\n",
    "    vel_R = np.array([0, 1]),\n",
    "    heading_R = robot_rot,\n",
    "    pos_G_rel = np.array([goal_x-robot_x, goal_y-robot_y+0.2]),\n",
    "    pos_O_rel = np.array([hazard_x-robot_x, hazard_y-robot_y])\n",
    ")\n",
    "print(state)\n",
    "print(get_action(Q, state, device))"
   ]
  },
  {
   "cell_type": "code",
   "execution_count": 19,
   "metadata": {},
   "outputs": [
    {
     "name": "stdout",
     "output_type": "stream",
     "text": [
      "------------------- case 2 -------------------\n",
      "[1.7, -1.7, 1.0, -1.0, 1.2246467991473532e-16, 3.141592653589793, 0.7, 0.7, 1.0, 1.0, 0.0, 0.0]\n",
      "[[-0.01]\n",
      " [ 0.  ]]\n",
      "[1.7, -1.7, 1.0, -1.0, 1.2246467991473532e-16, 3.141592653589793, 0.7071067811865475, 0.7, 1.0, 0.9899494936611666, 0.1414213562373094, 0.1418970546041638]\n",
      "[[0.]\n",
      " [5.]]\n"
     ]
    }
   ],
   "source": [
    "# case 2 (fail)\n",
    "# When obstacle is not in the way, changing obstacle x pos should not change action\n",
    "\n",
    "print('------------------- case 2 -------------------')\n",
    "\n",
    "robot_x = 0\n",
    "robot_y = 0.3\n",
    "robot_rot = -np.pi/2\n",
    "goal_x = 0\n",
    "goal_y = 2\n",
    "hazard_x = 0.0\n",
    "hazard_y = -0.4\n",
    "\n",
    "state = get_state(\n",
    "    vel_R = np.array([0, 1]),\n",
    "    heading_R = robot_rot,\n",
    "    pos_G_rel = np.array([goal_x-robot_x, goal_y-robot_y]),\n",
    "    pos_O_rel = np.array([hazard_x-robot_x, hazard_y-robot_y])\n",
    ")\n",
    "print(state)\n",
    "print(get_action(Q, state, device))\n",
    "\n",
    "state = get_state(\n",
    "    vel_R = np.array([0, 1]),\n",
    "    heading_R = robot_rot,\n",
    "    pos_G_rel = np.array([goal_x-robot_x, goal_y-robot_y]),\n",
    "    pos_O_rel = np.array([hazard_x-robot_x+0.1, hazard_y-robot_y])\n",
    ")\n",
    "print(state)\n",
    "print(get_action(Q, state, device))"
   ]
  },
  {
   "cell_type": "code",
   "execution_count": 7,
   "metadata": {},
   "outputs": [
    {
     "name": "stdout",
     "output_type": "stream",
     "text": [
      "Converted pytorch model to an NNet model at 1200.nnet\n"
     ]
    }
   ],
   "source": [
    "torch_model_to_nnet(Q, f\"{demo_ep}.nnet\", decimal=8) # saving 8 digits. More can be used, but that requires more more space."
   ]
  },
  {
   "cell_type": "code",
   "execution_count": 1,
   "metadata": {},
   "outputs": [
    {
     "data": {
      "text/plain": [
       "Network(NeuralVerification.Layer[NeuralVerification.Layer{NeuralVerification.ReLU, Float64}([0.24342039 0.03698453 … -0.27498862 -0.1547408; 0.09474183 -0.18618044 … -0.11526605 0.30972815; … ; 0.082394 -0.2601743 … -0.34052637 0.12294344; 0.04755301 0.11737449 … -0.16945669 -0.08002926], [-0.22134753, 0.46379456, 0.07607478, 0.54365259, 0.21357113, -0.23324615, -0.0016113, -0.15920782, -0.14313482, -0.498936  …  0.34498838, 0.13475046, 0.11413261, -0.15794192, -0.04125132, 0.08076145, 0.41826671, -0.14050023, 0.29482433, 0.34801096], NeuralVerification.ReLU()), NeuralVerification.Layer{NeuralVerification.ReLU, Float64}([0.02563666 0.23543376 … 0.09984681 -1.96628988; -0.07438762 0.02845028 … -0.18539959 0.23890342; … ; -0.15853742 0.27787173 … 0.16925441 -1.82002664; -0.14807875 0.08876662 … -0.0500313 -1.06449413], [0.00389475, -0.12922841, 0.15374568, 0.03182315, 0.1785596, 0.04491991, 0.28510159, -0.05970472, 0.07842706, 0.23793134  …  0.21913138, 0.09256473, 0.13260208, 0.23709306, 0.16750802, 0.00925502, -0.05383639, 0.05189542, 0.06390688, 0.14328077], NeuralVerification.ReLU()), NeuralVerification.Layer{NeuralVerification.Id, Float64}([0.50532627 0.85787171 … 0.56979966 0.1361796; 0.46885079 0.34503371 … 0.53694189 0.14919001; … ; 0.53995883 0.15264991 … 0.40809685 0.25754645; 0.52904546 0.4672412 … 0.48917621 0.21515594], [0.23720559, 0.32001504, 0.23436399, 0.16945589, 0.31662601, 0.25354585, 0.19873112, 0.18375862, 0.15796781, 0.12397227  …  0.2113671, 0.2629008, 0.16366288, 0.20252465, 0.18220662, 0.22757879, 0.13986903, 0.28517875, 0.24134174, 0.22651625], NeuralVerification.Id())])"
      ]
     },
     "metadata": {},
     "output_type": "display_data"
    }
   ],
   "source": [
    "# Test nnet in julia using the following code:\n",
    "# the output could be slightly different due to digits used for saving nnet\n",
    "\n",
    "using NeuralVerification\n",
    "net = read_nnet(\"1200.nnet\")"
   ]
  },
  {
   "cell_type": "code",
   "execution_count": 2,
   "metadata": {},
   "outputs": [
    {
     "data": {
      "text/plain": [
       "get_result (generic function with 1 method)"
      ]
     },
     "metadata": {},
     "output_type": "display_data"
    }
   ],
   "source": [
    "function get_result(solver, problem)  \n",
    "    model = NeuralVerification.Model(solver)\n",
    "    z = NeuralVerification.init_vars(model, problem.network, :z, with_input=true)\n",
    "    δ = NeuralVerification.init_vars(model, problem.network, :δ, binary=true)\n",
    "    # get the pre-activation bounds:\n",
    "    model[:bounds] = NeuralVerification.get_bounds(problem, before_act=true)\n",
    "    model[:before_act] = true\n",
    "    NeuralVerification.add_set_constraint!(model, problem.input, first(z))\n",
    "    NeuralVerification.add_complementary_set_constraint!(model, problem.output, last(z))\n",
    "    NeuralVerification.encode_network!(model, problem.network, NeuralVerification.BoundedMixedIntegerLP())\n",
    "    o = NeuralVerification.max_disturbance!(model, first(z) - problem.input.center)\n",
    "    NeuralVerification.optimize!(model)\n",
    "    if NeuralVerification.termination_status(model) == NeuralVerification.OPTIMAL\n",
    "        return (1,NeuralVerification.value(first(z)))\n",
    "    else\n",
    "        return (0,0.0)\n",
    "    end\n",
    "end"
   ]
  },
  {
   "cell_type": "code",
   "execution_count": 3,
   "metadata": {},
   "outputs": [
    {
     "name": "stdout",
     "output_type": "stream",
     "text": [
      "action pair: 1,2: holds\n",
      "action pair: "
     ]
    },
    {
     "name": "stdout",
     "output_type": "stream",
     "text": [
      "3,2: holds\n"
     ]
    },
    {
     "name": "stdout",
     "output_type": "stream",
     "text": [
      "action pair: 4,2: holds\n",
      "action pair: "
     ]
    },
    {
     "name": "stdout",
     "output_type": "stream",
     "text": [
      "5,2: holds\n"
     ]
    },
    {
     "name": "stdout",
     "output_type": "stream",
     "text": [
      "action pair: 6,2: holds\n",
      "action pair: "
     ]
    },
    {
     "name": "stdout",
     "output_type": "stream",
     "text": [
      "7,2: holds\n"
     ]
    },
    {
     "name": "stdout",
     "output_type": "stream",
     "text": [
      "action pair: 8,2: holds\n",
      "action pair: "
     ]
    },
    {
     "name": "stdout",
     "output_type": "stream",
     "text": [
      "9,2: holds\n"
     ]
    },
    {
     "name": "stdout",
     "output_type": "stream",
     "text": [
      "action pair: 10,2: holds\n",
      "action pair: "
     ]
    },
    {
     "name": "stdout",
     "output_type": "stream",
     "text": [
      "11,2: holds\n"
     ]
    },
    {
     "name": "stdout",
     "output_type": "stream",
     "text": [
      "action pair: 12,2: holds\n",
      "action pair: "
     ]
    },
    {
     "name": "stdout",
     "output_type": "stream",
     "text": [
      "13,2: holds\n"
     ]
    },
    {
     "name": "stdout",
     "output_type": "stream",
     "text": [
      "action pair: 14,2: holds\n",
      "action pair: "
     ]
    },
    {
     "name": "stdout",
     "output_type": "stream",
     "text": [
      "15,2: holds\n"
     ]
    },
    {
     "name": "stdout",
     "output_type": "stream",
     "text": [
      "action pair: 16,2: holds\n",
      "action pair: "
     ]
    },
    {
     "name": "stdout",
     "output_type": "stream",
     "text": [
      "17,2: holds\n"
     ]
    },
    {
     "name": "stdout",
     "output_type": "stream",
     "text": [
      "action pair: 18,2: holds\n",
      "action pair: "
     ]
    },
    {
     "name": "stdout",
     "output_type": "stream",
     "text": [
      "19,2: holds\n"
     ]
    },
    {
     "name": "stdout",
     "output_type": "stream",
     "text": [
      "action pair: 20,2: holds\n",
      "action pair: "
     ]
    },
    {
     "name": "stdout",
     "output_type": "stream",
     "text": [
      "21,2: holds\n"
     ]
    },
    {
     "name": "stdout",
     "output_type": "stream",
     "text": [
      "action pair: 22,2: holds\n",
      "action pair: "
     ]
    },
    {
     "name": "stdout",
     "output_type": "stream",
     "text": [
      "23,2: holds\n"
     ]
    },
    {
     "name": "stdout",
     "output_type": "stream",
     "text": [
      "action pair: 24,2: holds\n",
      "action pair: "
     ]
    },
    {
     "name": "stdout",
     "output_type": "stream",
     "text": [
      "25,2: holds\n"
     ]
    }
   ],
   "source": [
    "# Case 1: when the obstacle is far, changing goal distance should not change action\n",
    "input = [1.7, -1.7, 1.0, -1.0, 1.2246467991473532e-16, 3.141592653589793, 0.7280109889280517, -0.7, 1.0, -0.9615239476408232, -0.274721127897378, -2.863292994584682]\n",
    "\n",
    "# Check the desired action\n",
    "output = NeuralVerification.compute_output(net, input)\n",
    "desired_action = argmax(output) # Note Julia's index starts from 1\n",
    "\n",
    "# Now check whether the input can tolerate some perturbation\n",
    "\n",
    "# radius is calculated as the diff between two states from case 2 due to state features\n",
    "radius = [0.2, 0.2, 0.0, 0.0, 0.0, 0.0, 0.0, 0.0, 0.0, 0.0, 0.0, 0.0] # This parameter is tunable\n",
    "input_set  = NeuralVerification.Hyperrectangle(input, radius)\n",
    "\n",
    "# Choose solver\n",
    "solver = MIPVerify()\n",
    "\n",
    "# Problem 1. Now we check if the desired_action remains the same for all inputs in the input_set\n",
    "for i in 1:25\n",
    "    if i != desired_action\n",
    "        vec = zeros(1,25)\n",
    "        vec[i] = 1.0\n",
    "        vec[desired_action] = -1.0\n",
    "        output_set = NeuralVerification.HPolytope(vec, [0.0])\n",
    "        problem = Problem(net, input_set, output_set)\n",
    "        result = solve(solver, problem)\n",
    "        println(\"action pair: \",i, \",\", desired_action, \": \",result.status)\n",
    "    end\n",
    "end\n"
   ]
  },
  {
   "cell_type": "code",
   "execution_count": 4,
   "metadata": {},
   "outputs": [
    {
     "name": "stdout",
     "output_type": "stream",
     "text": [
      "action pair: 1,3: holds\n",
      "action pair: "
     ]
    },
    {
     "name": "stdout",
     "output_type": "stream",
     "text": [
      "2,3: holds\n"
     ]
    },
    {
     "name": "stdout",
     "output_type": "stream",
     "text": [
      "action pair: 4,3: holds\n",
      "action pair: "
     ]
    },
    {
     "name": "stdout",
     "output_type": "stream",
     "text": [
      "5,3: holds\n"
     ]
    },
    {
     "name": "stdout",
     "output_type": "stream",
     "text": [
      "action pair: 6,3: holds\n",
      "action pair: "
     ]
    },
    {
     "name": "stdout",
     "output_type": "stream",
     "text": [
      "7,3: holds\n"
     ]
    },
    {
     "name": "stdout",
     "output_type": "stream",
     "text": [
      "action pair: 8,3: holds\n",
      "action pair: "
     ]
    },
    {
     "name": "stdout",
     "output_type": "stream",
     "text": [
      "9,3: holds\n"
     ]
    },
    {
     "name": "stdout",
     "output_type": "stream",
     "text": [
      "action pair: 10,3: holds\n",
      "action pair: "
     ]
    },
    {
     "name": "stdout",
     "output_type": "stream",
     "text": [
      "11,3: holds\n"
     ]
    },
    {
     "name": "stdout",
     "output_type": "stream",
     "text": [
      "action pair: 12,3: holds\n",
      "action pair: "
     ]
    },
    {
     "name": "stdout",
     "output_type": "stream",
     "text": [
      "13,3: holds\n"
     ]
    },
    {
     "name": "stdout",
     "output_type": "stream",
     "text": [
      "action pair: 14,3: violated\n",
      "action pair: "
     ]
    },
    {
     "name": "stdout",
     "output_type": "stream",
     "text": [
      "15,3: holds\n"
     ]
    },
    {
     "name": "stdout",
     "output_type": "stream",
     "text": [
      "action pair: 16,3: holds\n",
      "action pair: "
     ]
    },
    {
     "name": "stdout",
     "output_type": "stream",
     "text": [
      "17,3: holds\n"
     ]
    },
    {
     "name": "stdout",
     "output_type": "stream",
     "text": [
      "action pair: 18,3: holds\n",
      "action pair: "
     ]
    },
    {
     "name": "stdout",
     "output_type": "stream",
     "text": [
      "19,3: holds\n"
     ]
    },
    {
     "name": "stdout",
     "output_type": "stream",
     "text": [
      "action pair: 20,3: holds\n",
      "action pair: "
     ]
    },
    {
     "name": "stdout",
     "output_type": "stream",
     "text": [
      "21,3: holds\n"
     ]
    },
    {
     "name": "stdout",
     "output_type": "stream",
     "text": [
      "action pair: 22,3: holds\n",
      "action pair: "
     ]
    },
    {
     "name": "stdout",
     "output_type": "stream",
     "text": [
      "23,3: holds\n"
     ]
    },
    {
     "name": "stdout",
     "output_type": "stream",
     "text": [
      "action pair: 24,3: holds\n",
      "action pair: "
     ]
    },
    {
     "name": "stdout",
     "output_type": "stream",
     "text": [
      "25,3: holds\n"
     ]
    }
   ],
   "source": [
    "# Case 2: When obstacle is not in the way, changing obstacle x pos should not change action\n",
    "input = [1.7, -1.7, 1.0, -1.0, 1.2246467991473532e-16, 3.141592653589793, 0.7, 0.7, 1.0, 1.0, 0.0, 0.0]\n",
    "\n",
    "# Check the desired action\n",
    "output = NeuralVerification.compute_output(net, input)\n",
    "desired_action = argmax(output) # Note Julia's index starts from 1\n",
    "\n",
    "# Now check whether the input can tolerate some perturbation\n",
    "radius = [0.0, 0.0, 0.0, 0.0, 0.0, 0.0, 0.007106781186547506, 0.0, 0.0, 0.01005050633883342, 0.1414213562373094, 0.1418970546041638] # This parameter is tunable\n",
    "input_set  = NeuralVerification.Hyperrectangle(input, radius)\n",
    "\n",
    "# Choose solver\n",
    "solver = MIPVerify()\n",
    "\n",
    "# Problem 1. Now we check if the desired_action remains the same for all inputs in the input_set\n",
    "for i in 1:25\n",
    "    if i != desired_action\n",
    "        vec = zeros(1,25)\n",
    "        vec[i] = 1.0\n",
    "        vec[desired_action] = -1.0\n",
    "        output_set = NeuralVerification.HPolytope(vec, [0.0])\n",
    "        problem = Problem(net, input_set, output_set)\n",
    "        result = solve(solver, problem)\n",
    "        println(\"action pair: \",i, \",\", desired_action, \": \",result.status)\n",
    "    end\n",
    "end\n"
   ]
  }
 ],
 "metadata": {
  "kernelspec": {
   "display_name": "Julia 1.8.2",
   "language": "julia",
   "name": "julia-1.8"
  },
  "language_info": {
   "file_extension": ".jl",
   "mimetype": "application/julia",
   "name": "julia",
   "version": "1.8.2"
  },
  "vscode": {
   "interpreter": {
    "hash": "6030eb738c8acb4f83a1f3daa211682723451309cff055d0309698eea07fbfaa"
   }
  }
 },
 "nbformat": 4,
 "nbformat_minor": 2
}
